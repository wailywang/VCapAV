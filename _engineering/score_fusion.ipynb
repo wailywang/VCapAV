{
 "cells": [
  {
   "cell_type": "code",
   "execution_count": 1,
   "metadata": {},
   "outputs": [],
   "source": [
    "import glob\n",
    "import numpy as np\n",
    "import pickle\n",
    "import os\n",
    "from collections import Counter\n",
    "from utils.spoofeval import spoof_eval"
   ]
  },
  {
   "cell_type": "code",
   "execution_count": 2,
   "metadata": {},
   "outputs": [],
   "source": [
    "ppath='/Work29/wwm1995/SMIIP/wxm_spoof2021/best_score/'\n",
    "score_path=os.path.join(ppath,'*/score_path_*.log')\n",
    "score_path=glob.glob(score_path)"
   ]
  },
  {
   "cell_type": "code",
   "execution_count": 3,
   "metadata": {},
   "outputs": [
    {
     "name": "stdout",
     "output_type": "stream",
     "text": [
      "/Work29/wwm1995/SMIIP/wxm_spoof2021/best_score/19LA_flac_Aug1_80FBANK_ResNet18_ASP_fft1024len64hop8/score_path_10.log\n"
     ]
    }
   ],
   "source": [
    "print(score_path[0])"
   ]
  },
  {
   "cell_type": "code",
   "execution_count": 4,
   "metadata": {},
   "outputs": [],
   "source": [
    "def zscore(x, axis = None):\n",
    "    xmean = x.mean(axis=axis, keepdims=True)\n",
    "    xstd  = np.std(x, axis=axis, keepdims=True)\n",
    "    zscore = (x-xmean)/xstd\n",
    "    return zscore"
   ]
  },
  {
   "cell_type": "code",
   "execution_count": 5,
   "metadata": {},
   "outputs": [
    {
     "name": "stdout",
     "output_type": "stream",
     "text": [
      "[[0.68211919 0.03763295 0.24360145 0.18401394]\n",
      " [0.53460389 0.58767782 0.284668   0.6791908 ]] \n",
      "\n",
      "[0.28684188 0.52153513]\n",
      "[0.24020437 0.1462079 ]\n"
     ]
    },
    {
     "data": {
      "text/plain": [
       "array([[ 1.64558748, -1.03748707, -0.18001517, -0.42808523],\n",
       "       [ 0.08938479,  0.45238796, -1.62007069,  1.07829794]])"
      ]
     },
     "execution_count": 5,
     "metadata": {},
     "output_type": "execute_result"
    }
   ],
   "source": [
    "a=np.random.rand(2,4)\n",
    "print(a,'\\n')\n",
    "\n",
    "print(a.mean(axis=1))\n",
    "print(np.std(a,axis=1))\n",
    "\n",
    "zscore(a,1)"
   ]
  },
  {
   "cell_type": "markdown",
   "metadata": {},
   "source": [
    "### Input Your model parameters"
   ]
  },
  {
   "cell_type": "code",
   "execution_count": 6,
   "metadata": {},
   "outputs": [],
   "source": [
    "seed=[1,10,100]\n",
    "dataset=['19LA','21LA']\n",
    "model=['ResNet18','LightCNN_lstm']\n",
    "upsample=['flac','BE_TDclean','BE_TDnoise']\n",
    "aug=[0,1]"
   ]
  },
  {
   "cell_type": "code",
   "execution_count": 7,
   "metadata": {},
   "outputs": [
    {
     "name": "stdout",
     "output_type": "stream",
     "text": [
      "/Work29/wwm1995/SMIIP/wxm_spoof2021/best_score/21LA_BE_TDnoise_Aug1_80FBANK_ResNet18_ASP_fft1024len64hop8/score_path_100.log\n",
      "/Work29/wwm1995/SMIIP/wxm_spoof2021/best_score/21LA_BE_TDnoise_Aug1_80FBANK_LightCNN_lstm_ASP_fft1024len64hop8/score_path_100.log\n"
     ]
    }
   ],
   "source": [
    "score_path_1=f'/Work29/wwm1995/SMIIP/wxm_spoof2021/best_score/{dataset[1]}_{upsample[2]}_Aug{aug[1]}_80FBANK_{model[0]}_ASP_fft1024len64hop8/score_path_{seed[2]}.log'\n",
    "print(score_path_1)\n",
    "score_path_2=f'/Work29/wwm1995/SMIIP/wxm_spoof2021/best_score/{dataset[1]}_{upsample[2]}_Aug{aug[1]}_80FBANK_{model[1]}_ASP_fft1024len64hop8/score_path_{seed[2]}.log'\n",
    "print(score_path_2)\n",
    "\n",
    "with open(str(score_path_1), 'r') as sp:\n",
    "    score_file=sp.readline()\n",
    "    score_file1 = score_file.rstrip() \n",
    "\n",
    "\n",
    "with open(str(score_path_2), 'r') as sp:\n",
    "    score_file=sp.readline()\n",
    "    score_file2 = score_file.rstrip() \n"
   ]
  },
  {
   "cell_type": "markdown",
   "metadata": {},
   "source": [
    "### FUSION 实现方法一：使用collections.Counter方法直接同名元素相加，创建字典"
   ]
  },
  {
   "cell_type": "code",
   "execution_count": 8,
   "metadata": {},
   "outputs": [],
   "source": [
    "with open(score_file1, 'rb') as f:\n",
    "    score_1=pickle.load(f)\n",
    "with open(score_file2, 'rb') as f:\n",
    "    score_2=pickle.load(f)\n",
    "\n",
    "score_tmp=np.array([v1 for _, v1 in score_1.items()])\n",
    "score_tmp=zscore(score_tmp,axis=1)\n",
    "score_1={k1:v for (k1,_),v in zip(score_1.items(),score_tmp)}\n",
    "\n",
    "score_tmp=np.array([v2 for _, v2 in score_2.items()])\n",
    "score_tmp=zscore(score_tmp,axis=1)\n",
    "score_2={k2:v for (k2,_),v in zip(score_2.items(),score_tmp)}\n",
    "\n",
    "#fusion weight\n",
    "# a=0.2\n",
    "# score_1 = {k1:(1-a)*v1 for k1, v1 in score_1.items()}\n",
    "# score_2 = {k2:a*v2 for k2, v2 in score_2.items()}\n",
    "\n",
    "dicts=[score_1,score_2]\n",
    "c = Counter()\n",
    "for d in dicts:\n",
    "    # c.subtract(d)\n",
    "    c.update(d)"
   ]
  },
  {
   "cell_type": "code",
   "execution_count": 9,
   "metadata": {},
   "outputs": [
    {
     "name": "stdout",
     "output_type": "stream",
     "text": [
      "PRAINTING single system 1 SCORES BASED RESULTS!!!\n",
      "\n",
      "{'bonafide': 0, 'spoof': 1}\n",
      "ACC:96.464340 EER:2.351208 Threshold:1.000000\n",
      "\n",
      "{'bonafide': 0, 'spoof': 1}\n",
      "ACC:96.464340 EER:2.350083 Threshold:-1.000000\n",
      "\n",
      "PRAINTING single system 2 SCORES BASED RESULTS!!!\n",
      "\n",
      "{'bonafide': 0, 'spoof': 1}\n",
      "ACC:97.087922 EER:2.673734 Threshold:1.000000\n",
      "\n",
      "{'bonafide': 0, 'spoof': 1}\n",
      "ACC:97.087922 EER:2.672983 Threshold:-1.000000\n",
      "\n",
      "PRAINTING fusion SCORES BASED RESULTS!!!\n",
      "\n",
      "{'bonafide': 0, 'spoof': 1}\n",
      "ACC:95.939288 EER:2.525657 Threshold:0.000000\n",
      "\n",
      "{'bonafide': 0, 'spoof': 1}\n",
      "ACC:95.939288 EER:2.504659 Threshold:0.000000\n",
      "\n"
     ]
    }
   ],
   "source": [
    "print('PRAINTING single system 1 SCORES BASED RESULTS!!!\\n')\n",
    "val_data_name='asvspoof21LA/eval'\n",
    "scores_dic=score_1\n",
    "\n",
    "\n",
    "ACC, EER, threshold= spoof_eval('data/%s/utt2label' % val_data_name , scores_dic, pos_label=0 )\n",
    "print('ACC:%f EER:%f Threshold:%f\\n'%(ACC,EER,threshold))\n",
    "\n",
    "ACC, EER, threshold= spoof_eval('data/%s/utt2label' % val_data_name , scores_dic, pos_label=1 )\n",
    "print('ACC:%f EER:%f Threshold:%f\\n'%(ACC,EER,threshold))\n",
    "print('PRAINTING single system 2 SCORES BASED RESULTS!!!\\n')\n",
    "scores_dic=score_2\n",
    "\n",
    "\n",
    "ACC, EER, threshold= spoof_eval('data/%s/utt2label' % val_data_name , scores_dic, pos_label=0 )\n",
    "print('ACC:%f EER:%f Threshold:%f\\n'%(ACC,EER,threshold))\n",
    "\n",
    "ACC, EER, threshold= spoof_eval('data/%s/utt2label' % val_data_name , scores_dic, pos_label=1 )\n",
    "print('ACC:%f EER:%f Threshold:%f\\n'%(ACC,EER,threshold))\n",
    "print('PRAINTING fusion SCORES BASED RESULTS!!!\\n')\n",
    "\n",
    "scores_dic=dict(c)\n",
    "\n",
    "ACC, EER, threshold= spoof_eval('data/%s/utt2label' % val_data_name , scores_dic, pos_label=0 )\n",
    "print('ACC:%f EER:%f Threshold:%f\\n'%(ACC,EER,threshold))\n",
    "\n",
    "ACC, EER, threshold= spoof_eval('data/%s/utt2label' % val_data_name , scores_dic, pos_label=1 )\n",
    "print('ACC:%f EER:%f Threshold:%f\\n'%(ACC,EER,threshold))"
   ]
  },
  {
   "cell_type": "code",
   "execution_count": null,
   "metadata": {},
   "outputs": [],
   "source": []
  }
 ],
 "metadata": {
  "interpreter": {
   "hash": "6eda67e26df02e7178620a5265e7693f26f58b9995c6ffa50a7cb28c46346425"
  },
  "kernelspec": {
   "display_name": "Python 3.7.9 ('spoof')",
   "language": "python",
   "name": "python3"
  },
  "language_info": {
   "codemirror_mode": {
    "name": "ipython",
    "version": 3
   },
   "file_extension": ".py",
   "mimetype": "text/x-python",
   "name": "python",
   "nbconvert_exporter": "python",
   "pygments_lexer": "ipython3",
   "version": "3.7.9 (default, Aug 31 2020, 12:42:55) \n[GCC 7.3.0]"
  },
  "orig_nbformat": 4
 },
 "nbformat": 4,
 "nbformat_minor": 2
}
